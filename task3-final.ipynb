{
 "cells": [
  {
   "cell_type": "code",
   "execution_count": 1,
   "id": "64980bb8",
   "metadata": {},
   "outputs": [],
   "source": [
    "import warnings\n",
    "import pandas as pd\n",
    "\n",
    "from engine import Config, Trainer\n",
    "from dataset import get_dataloaders, get_datasets\n",
    "\n",
    "warnings.filterwarnings('ignore')"
   ]
  },
  {
   "cell_type": "code",
   "execution_count": 2,
   "id": "9f42e977",
   "metadata": {},
   "outputs": [],
   "source": [
    "df = pd.read_csv(\"FeynmanEquationsModified.csv\")\n",
    "input_df = pd.read_csv(\"./data_400/train_df.csv\")"
   ]
  },
  {
   "cell_type": "code",
   "execution_count": 3,
   "id": "7c87e2b5",
   "metadata": {},
   "outputs": [],
   "source": [
    "datasets, train_equations, test_equations = get_datasets(df, input_df, \"./data_400\", [0.80, 0.1, 0.1])"
   ]
  },
  {
   "cell_type": "code",
   "execution_count": 4,
   "id": "955c5401",
   "metadata": {},
   "outputs": [],
   "source": [
    "dataloaders = get_dataloaders(datasets, 512, 512, 100)"
   ]
  },
  {
   "cell_type": "code",
   "execution_count": 5,
   "id": "0f3fcff6",
   "metadata": {},
   "outputs": [
    {
     "name": "stdout",
     "output_type": "stream",
     "text": [
      "==================================================\n",
      "Config\n",
      "==================================================\n",
      "experiment_name                evolved\n",
      "root_dir                       ./\n",
      "device                         cuda:6\n",
      "epochs                         10\n",
      "seed                           42\n",
      "use_half_precision             True\n",
      "scheduler_type                 cosine_annealing_warm_restart\n",
      "T_0                            10\n",
      "T_mult                         1\n",
      "optimizer_type                 adam\n",
      "optimizer_lr                   0.0005\n",
      "optimizer_momentum             0.9\n",
      "optimizer_weight_decay         0.0001\n",
      "optimizer_no_decay             []\n",
      "clip_grad_norm                 -1\n",
      "model_name                     evolved_transformer\n",
      "hybrid                         True\n",
      "embedding_size                 64\n",
      "hidden_dim                     64\n",
      "pff_dim                        128\n",
      "nhead                          8\n",
      "num_encoder_layers             2\n",
      "num_decoder_layers             6\n",
      "dropout                        0.2\n",
      "pretrain                       False\n",
      "input_emb_size                 64\n",
      "max_input_points               33\n",
      "src_vocab_size                 1104\n",
      "tgt_vocab_size                 59\n",
      "criterion                      cross_entropy\n",
      "==================================================\n"
     ]
    }
   ],
   "source": [
    "config = Config(experiment_name=\"evolved\",\n",
    "                model_name=\"evolved_transformer\",\n",
    "                epochs = 10,\n",
    "                optimizer_lr = 0.0005,\n",
    "                optimizer_weight_decay = 0.0001,\n",
    "                T_0 = 10,\n",
    "                num_encoder_layers = 2,\n",
    "                num_decoder_layers = 6,\n",
    "                input_emb_size = 64,\n",
    "                embedding_size = 64,\n",
    "                hidden_dim = 64,\n",
    "                pff_dim = 128,\n",
    "                device = \"cuda:6\")\n",
    "config.print_config()"
   ]
  },
  {
   "cell_type": "code",
   "execution_count": 6,
   "id": "7f5b3caf",
   "metadata": {},
   "outputs": [],
   "source": [
    "trainer = Trainer(config, dataloaders)"
   ]
  },
  {
   "cell_type": "code",
   "execution_count": 7,
   "id": "096e04ae",
   "metadata": {},
   "outputs": [
    {
     "name": "stderr",
     "output_type": "stream",
     "text": [
      "[1/10] Train: 100%|███████████████████████████████████████████████████████████| 391/391 [03:42<00:00,  1.76it/s, loss=0.902]\n",
      "[1/10] Valid: 100%|█████████████████████████████████████████████████████████████████████████| 49/49 [00:11<00:00,  4.10it/s]\n"
     ]
    },
    {
     "name": "stdout",
     "output_type": "stream",
     "text": [
      "==> Best Accuracy improved to 0.8808135 from -1\n"
     ]
    },
    {
     "name": "stderr",
     "output_type": "stream",
     "text": [
      "[2/10] Train: 100%|███████████████████████████████████████████████████████████| 391/391 [03:38<00:00,  1.79it/s, loss=0.332]\n",
      "[2/10] Valid: 100%|█████████████████████████████████████████████████████████████████████████| 49/49 [00:11<00:00,  4.13it/s]\n"
     ]
    },
    {
     "name": "stdout",
     "output_type": "stream",
     "text": [
      "==> Best Accuracy improved to 0.9402394 from 0.8808135\n"
     ]
    },
    {
     "name": "stderr",
     "output_type": "stream",
     "text": [
      "[3/10] Train: 100%|███████████████████████████████████████████████████████████| 391/391 [03:38<00:00,  1.79it/s, loss=0.179]\n",
      "[3/10] Valid: 100%|█████████████████████████████████████████████████████████████████████████| 49/49 [00:12<00:00,  4.01it/s]\n"
     ]
    },
    {
     "name": "stdout",
     "output_type": "stream",
     "text": [
      "==> Best Accuracy improved to 0.9845948 from 0.9402394\n"
     ]
    },
    {
     "name": "stderr",
     "output_type": "stream",
     "text": [
      "[4/10] Train: 100%|██████████████████████████████████████████████████████████| 391/391 [03:38<00:00,  1.79it/s, loss=0.0974]\n",
      "[4/10] Valid: 100%|█████████████████████████████████████████████████████████████████████████| 49/49 [00:12<00:00,  4.02it/s]\n"
     ]
    },
    {
     "name": "stdout",
     "output_type": "stream",
     "text": [
      "==> Best Accuracy improved to 0.9933432 from 0.9845948\n"
     ]
    },
    {
     "name": "stderr",
     "output_type": "stream",
     "text": [
      "[5/10] Train: 100%|██████████████████████████████████████████████████████████| 391/391 [03:38<00:00,  1.79it/s, loss=0.0615]\n",
      "[5/10] Valid: 100%|█████████████████████████████████████████████████████████████████████████| 49/49 [00:12<00:00,  3.96it/s]\n"
     ]
    },
    {
     "name": "stdout",
     "output_type": "stream",
     "text": [
      "==> Best Accuracy improved to 0.9963568 from 0.9933432\n"
     ]
    },
    {
     "name": "stderr",
     "output_type": "stream",
     "text": [
      "[6/10] Train: 100%|██████████████████████████████████████████████████████████| 391/391 [03:38<00:00,  1.79it/s, loss=0.0448]\n",
      "[6/10] Valid: 100%|█████████████████████████████████████████████████████████████████████████| 49/49 [00:12<00:00,  3.96it/s]\n"
     ]
    },
    {
     "name": "stdout",
     "output_type": "stream",
     "text": [
      "==> Best Accuracy improved to 0.9977374 from 0.9963568\n"
     ]
    },
    {
     "name": "stderr",
     "output_type": "stream",
     "text": [
      "[7/10] Train: 100%|██████████████████████████████████████████████████████████| 391/391 [03:38<00:00,  1.79it/s, loss=0.0348]\n",
      "[7/10] Valid: 100%|█████████████████████████████████████████████████████████████████████████| 49/49 [00:12<00:00,  4.04it/s]\n"
     ]
    },
    {
     "name": "stdout",
     "output_type": "stream",
     "text": [
      "==> Best Accuracy improved to 0.9985052 from 0.9977374\n"
     ]
    },
    {
     "name": "stderr",
     "output_type": "stream",
     "text": [
      "[8/10] Train: 100%|██████████████████████████████████████████████████████████| 391/391 [03:38<00:00,  1.79it/s, loss=0.0288]\n",
      "[8/10] Valid: 100%|█████████████████████████████████████████████████████████████████████████| 49/49 [00:12<00:00,  4.01it/s]\n"
     ]
    },
    {
     "name": "stdout",
     "output_type": "stream",
     "text": [
      "==> Best Accuracy improved to 0.9986778 from 0.9985052\n"
     ]
    },
    {
     "name": "stderr",
     "output_type": "stream",
     "text": [
      "[9/10] Train: 100%|██████████████████████████████████████████████████████████| 391/391 [03:38<00:00,  1.79it/s, loss=0.0243]\n",
      "[9/10] Valid: 100%|█████████████████████████████████████████████████████████████████████████| 49/49 [00:11<00:00,  4.10it/s]\n"
     ]
    },
    {
     "name": "stdout",
     "output_type": "stream",
     "text": [
      "==> Best Accuracy improved to 0.9992865 from 0.9986778\n"
     ]
    },
    {
     "name": "stderr",
     "output_type": "stream",
     "text": [
      "[10/10] Train: 100%|█████████████████████████████████████████████████████████| 391/391 [03:38<00:00,  1.79it/s, loss=0.0211]\n",
      "[10/10] Valid: 100%|████████████████████████████████████████████████████████████████████████| 49/49 [00:12<00:00,  4.05it/s]\n"
     ]
    },
    {
     "name": "stdout",
     "output_type": "stream",
     "text": [
      "==> Best Accuracy improved to 0.9992948 from 0.9992865\n"
     ]
    }
   ],
   "source": [
    "trainer.train()"
   ]
  },
  {
   "cell_type": "code",
   "execution_count": 8,
   "id": "e6b55f8f",
   "metadata": {},
   "outputs": [
    {
     "name": "stderr",
     "output_type": "stream",
     "text": [
      "[10/10] Test: 100%|███████████████████████████████████████████████████████████████████████| 250/250 [00:11<00:00, 21.46it/s]\n"
     ]
    },
    {
     "name": "stdout",
     "output_type": "stream",
     "text": [
      "Calculating Sequence Accuracy for predictions (1 example per batch)\n"
     ]
    },
    {
     "name": "stderr",
     "output_type": "stream",
     "text": [
      "Test: 100%|███████████████████████████████████████████████████████████████████████████████| 250/250 [01:02<00:00,  3.98it/s]"
     ]
    },
    {
     "name": "stdout",
     "output_type": "stream",
     "text": [
      "Test Accuracy: 0.83101 | Valid Accuracy: 0.9992948\n",
      "Test Sequence Accuracy: 0.296\n"
     ]
    },
    {
     "name": "stderr",
     "output_type": "stream",
     "text": [
      "\n"
     ]
    }
   ],
   "source": [
    "trainer.test_seq_acc()"
   ]
  },
  {
   "cell_type": "code",
   "execution_count": null,
   "id": "e9f076c1",
   "metadata": {},
   "outputs": [],
   "source": []
  }
 ],
 "metadata": {
  "kernelspec": {
   "display_name": "Python 3 (ipykernel)",
   "language": "python",
   "name": "python3"
  },
  "language_info": {
   "codemirror_mode": {
    "name": "ipython",
    "version": 3
   },
   "file_extension": ".py",
   "mimetype": "text/x-python",
   "name": "python",
   "nbconvert_exporter": "python",
   "pygments_lexer": "ipython3",
   "version": "3.8.10"
  }
 },
 "nbformat": 4,
 "nbformat_minor": 5
}
