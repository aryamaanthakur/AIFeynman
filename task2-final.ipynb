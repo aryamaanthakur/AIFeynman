{
 "cells": [
  {
   "cell_type": "code",
   "execution_count": 1,
   "id": "f3c86709",
   "metadata": {},
   "outputs": [],
   "source": [
    "import warnings\n",
    "import pandas as pd\n",
    "\n",
    "from engine import Config, Trainer\n",
    "from dataset import get_dataloaders, get_datasets\n",
    "\n",
    "warnings.filterwarnings('ignore')"
   ]
  },
  {
   "cell_type": "code",
   "execution_count": 2,
   "id": "563c0f65",
   "metadata": {},
   "outputs": [],
   "source": [
    "df = pd.read_csv(\"FeynmanEquationsModified.csv\")\n",
    "input_df = pd.read_csv(\"./data_400/train_df.csv\")"
   ]
  },
  {
   "cell_type": "code",
   "execution_count": 3,
   "id": "61806eee",
   "metadata": {},
   "outputs": [],
   "source": [
    "datasets, train_equations, test_equations = get_datasets(df, input_df, \"./data_400\", [0.80, 0.1, 0.1])"
   ]
  },
  {
   "cell_type": "code",
   "execution_count": 4,
   "id": "950eb2a2",
   "metadata": {},
   "outputs": [],
   "source": [
    "dataloaders = get_dataloaders(datasets, 512, 512, 100)"
   ]
  },
  {
   "cell_type": "code",
   "execution_count": 5,
   "id": "7095557d",
   "metadata": {},
   "outputs": [
    {
     "name": "stdout",
     "output_type": "stream",
     "text": [
      "==================================================\n",
      "Config\n",
      "==================================================\n",
      "experiment_name                seq2seq4\n",
      "root_dir                       ./\n",
      "device                         cuda:1\n",
      "epochs                         10\n",
      "seed                           42\n",
      "use_half_precision             True\n",
      "scheduler_type                 cosine_annealing_warm_restart\n",
      "T_0                            10\n",
      "T_mult                         1\n",
      "optimizer_type                 adam\n",
      "optimizer_lr                   0.0001\n",
      "optimizer_momentum             0.9\n",
      "optimizer_weight_decay         0.0001\n",
      "optimizer_no_decay             []\n",
      "clip_grad_norm                 -1\n",
      "model_name                     seq2seq_transformer\n",
      "hybrid                         True\n",
      "embedding_size                 64\n",
      "hidden_dim                     64\n",
      "pff_dim                        512\n",
      "nhead                          8\n",
      "num_encoder_layers             2\n",
      "num_decoder_layers             6\n",
      "dropout                        0.2\n",
      "pretrain                       False\n",
      "input_emb_size                 64\n",
      "max_input_points               33\n",
      "src_vocab_size                 1104\n",
      "tgt_vocab_size                 59\n",
      "criterion                      cross_entropy\n",
      "==================================================\n"
     ]
    }
   ],
   "source": [
    "config = Config()\n",
    "config.print_config()"
   ]
  },
  {
   "cell_type": "code",
   "execution_count": 6,
   "id": "4ab1a2e3",
   "metadata": {},
   "outputs": [],
   "source": [
    "trainer = Trainer(config, dataloaders)"
   ]
  },
  {
   "cell_type": "code",
   "execution_count": 7,
   "id": "a0156829",
   "metadata": {},
   "outputs": [
    {
     "name": "stderr",
     "output_type": "stream",
     "text": [
      "[1/10] Train: 100%|████████████████████████████████████████████████████████████| 391/391 [02:02<00:00,  3.19it/s, loss=1.03]\n",
      "[1/10] Valid: 100%|█████████████████████████████████████████████████████████████████████████| 49/49 [00:11<00:00,  4.22it/s]\n"
     ]
    },
    {
     "name": "stdout",
     "output_type": "stream",
     "text": [
      "==> Best Accuracy improved to 0.8747103 from -1\n"
     ]
    },
    {
     "name": "stderr",
     "output_type": "stream",
     "text": [
      "[2/10] Train: 100%|███████████████████████████████████████████████████████████| 391/391 [02:01<00:00,  3.22it/s, loss=0.436]\n",
      "[2/10] Valid: 100%|█████████████████████████████████████████████████████████████████████████| 49/49 [00:11<00:00,  4.17it/s]\n"
     ]
    },
    {
     "name": "stdout",
     "output_type": "stream",
     "text": [
      "==> Best Accuracy improved to 0.9357929 from 0.8747103\n"
     ]
    },
    {
     "name": "stderr",
     "output_type": "stream",
     "text": [
      "[3/10] Train: 100%|███████████████████████████████████████████████████████████| 391/391 [02:01<00:00,  3.22it/s, loss=0.251]\n",
      "[3/10] Valid: 100%|█████████████████████████████████████████████████████████████████████████| 49/49 [00:11<00:00,  4.35it/s]\n"
     ]
    },
    {
     "name": "stdout",
     "output_type": "stream",
     "text": [
      "==> Best Accuracy improved to 0.971849 from 0.9357929\n"
     ]
    },
    {
     "name": "stderr",
     "output_type": "stream",
     "text": [
      "[4/10] Train: 100%|███████████████████████████████████████████████████████████| 391/391 [02:01<00:00,  3.22it/s, loss=0.147]\n",
      "[4/10] Valid: 100%|█████████████████████████████████████████████████████████████████████████| 49/49 [00:11<00:00,  4.22it/s]\n"
     ]
    },
    {
     "name": "stdout",
     "output_type": "stream",
     "text": [
      "==> Best Accuracy improved to 0.987811 from 0.971849\n"
     ]
    },
    {
     "name": "stderr",
     "output_type": "stream",
     "text": [
      "[5/10] Train: 100%|██████████████████████████████████████████████████████████| 391/391 [02:01<00:00,  3.21it/s, loss=0.0874]\n",
      "[5/10] Valid: 100%|█████████████████████████████████████████████████████████████████████████| 49/49 [00:11<00:00,  4.21it/s]\n"
     ]
    },
    {
     "name": "stdout",
     "output_type": "stream",
     "text": [
      "==> Best Accuracy improved to 0.993611 from 0.987811\n"
     ]
    },
    {
     "name": "stderr",
     "output_type": "stream",
     "text": [
      "[6/10] Train: 100%|██████████████████████████████████████████████████████████| 391/391 [02:02<00:00,  3.20it/s, loss=0.0547]\n",
      "[6/10] Valid: 100%|█████████████████████████████████████████████████████████████████████████| 49/49 [00:11<00:00,  4.16it/s]\n"
     ]
    },
    {
     "name": "stdout",
     "output_type": "stream",
     "text": [
      "==> Best Accuracy improved to 0.9973258 from 0.993611\n"
     ]
    },
    {
     "name": "stderr",
     "output_type": "stream",
     "text": [
      "[7/10] Train: 100%|███████████████████████████████████████████████████████████| 391/391 [02:01<00:00,  3.22it/s, loss=0.036]\n",
      "[7/10] Valid: 100%|█████████████████████████████████████████████████████████████████████████| 49/49 [00:11<00:00,  4.18it/s]\n"
     ]
    },
    {
     "name": "stdout",
     "output_type": "stream",
     "text": [
      "==> Best Accuracy improved to 0.9980897 from 0.9973258\n"
     ]
    },
    {
     "name": "stderr",
     "output_type": "stream",
     "text": [
      "[8/10] Train: 100%|██████████████████████████████████████████████████████████| 391/391 [02:01<00:00,  3.22it/s, loss=0.0249]\n",
      "[8/10] Valid: 100%|█████████████████████████████████████████████████████████████████████████| 49/49 [00:11<00:00,  4.20it/s]\n"
     ]
    },
    {
     "name": "stdout",
     "output_type": "stream",
     "text": [
      "==> Best Accuracy improved to 0.9989006 from 0.9980897\n"
     ]
    },
    {
     "name": "stderr",
     "output_type": "stream",
     "text": [
      "[9/10] Train: 100%|██████████████████████████████████████████████████████████| 391/391 [02:01<00:00,  3.22it/s, loss=0.0183]\n",
      "[9/10] Valid: 100%|█████████████████████████████████████████████████████████████████████████| 49/49 [00:11<00:00,  4.11it/s]\n",
      "[10/10] Train: 100%|██████████████████████████████████████████████████████████| 391/391 [02:01<00:00,  3.22it/s, loss=0.014]\n",
      "[10/10] Valid: 100%|████████████████████████████████████████████████████████████████████████| 49/49 [00:12<00:00,  4.01it/s]\n"
     ]
    },
    {
     "name": "stdout",
     "output_type": "stream",
     "text": [
      "==> Best Accuracy improved to 0.999489 from 0.9989006\n"
     ]
    }
   ],
   "source": [
    "trainer.train()"
   ]
  },
  {
   "cell_type": "code",
   "execution_count": 8,
   "id": "7b557e4b",
   "metadata": {},
   "outputs": [
    {
     "name": "stderr",
     "output_type": "stream",
     "text": [
      "[10/10] Test: 100%|███████████████████████████████████████████████████████████████████████| 250/250 [00:10<00:00, 23.26it/s]\n"
     ]
    },
    {
     "name": "stdout",
     "output_type": "stream",
     "text": [
      "Calculating Sequence Accuracy for predictions (1 example per batch)\n"
     ]
    },
    {
     "name": "stderr",
     "output_type": "stream",
     "text": [
      "Test: 100%|███████████████████████████████████████████████████████████████████████████████| 250/250 [00:58<00:00,  4.29it/s]"
     ]
    },
    {
     "name": "stdout",
     "output_type": "stream",
     "text": [
      "Test Accuracy: 0.8909555 | Valid Accuracy: 0.999489\n",
      "Test Sequence Accuracy: 0.376\n"
     ]
    },
    {
     "name": "stderr",
     "output_type": "stream",
     "text": [
      "\n"
     ]
    }
   ],
   "source": [
    "trainer.test_seq_acc()"
   ]
  },
  {
   "cell_type": "code",
   "execution_count": null,
   "id": "a0659921",
   "metadata": {},
   "outputs": [],
   "source": []
  }
 ],
 "metadata": {
  "kernelspec": {
   "display_name": "Python 3 (ipykernel)",
   "language": "python",
   "name": "python3"
  },
  "language_info": {
   "codemirror_mode": {
    "name": "ipython",
    "version": 3
   },
   "file_extension": ".py",
   "mimetype": "text/x-python",
   "name": "python",
   "nbconvert_exporter": "python",
   "pygments_lexer": "ipython3",
   "version": "3.8.10"
  }
 },
 "nbformat": 4,
 "nbformat_minor": 5
}
