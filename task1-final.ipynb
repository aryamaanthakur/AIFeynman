{
 "cells": [
  {
   "cell_type": "code",
   "execution_count": 1,
   "id": "2c324572",
   "metadata": {},
   "outputs": [],
   "source": [
    "from dataset import prepare_dataset"
   ]
  },
  {
   "cell_type": "code",
   "execution_count": 4,
   "id": "ed92e282",
   "metadata": {},
   "outputs": [],
   "source": [
    "class Config:\n",
    "    input_max_len = 1000\n",
    "    max_len = 11\n",
    "    df_path = \"./FeynmanEquationsModified.csv\"\n",
    "    output_dir = \"./data\"\n",
    "    encoder_vocab = \"./encoder_vocab\"\n",
    "    decoder_vocab = \"./decoder_vocab\""
   ]
  },
  {
   "cell_type": "code",
   "execution_count": 6,
   "id": "d450d70f",
   "metadata": {},
   "outputs": [
    {
     "name": "stderr",
     "output_type": "stream",
     "text": [
      "100it [3:41:21, 132.82s/it]\n"
     ]
    }
   ],
   "source": [
    "train_df, equations_df = prepare_dataset(Config)"
   ]
  },
  {
   "cell_type": "code",
   "execution_count": 7,
   "id": "585a647a",
   "metadata": {},
   "outputs": [],
   "source": [
    "train_df.to_csv(\"./data/train_df.csv\")\n",
    "equations_df.to_csv(\"./data/equations_df.csv\")"
   ]
  },
  {
   "cell_type": "code",
   "execution_count": null,
   "id": "3a20e25f",
   "metadata": {},
   "outputs": [],
   "source": []
  }
 ],
 "metadata": {
  "kernelspec": {
   "display_name": "Python 3 (ipykernel)",
   "language": "python",
   "name": "python3"
  },
  "language_info": {
   "codemirror_mode": {
    "name": "ipython",
    "version": 3
   },
   "file_extension": ".py",
   "mimetype": "text/x-python",
   "name": "python",
   "nbconvert_exporter": "python",
   "pygments_lexer": "ipython3",
   "version": "3.8.10"
  }
 },
 "nbformat": 4,
 "nbformat_minor": 5
}
